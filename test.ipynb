{
 "cells": [
  {
   "cell_type": "code",
   "execution_count": 1,
   "metadata": {},
   "outputs": [],
   "source": [
    "import whisper"
   ]
  },
  {
   "cell_type": "code",
   "execution_count": 2,
   "metadata": {},
   "outputs": [],
   "source": [
    "model = whisper.load_model('base')"
   ]
  },
  {
   "cell_type": "code",
   "execution_count": 3,
   "metadata": {},
   "outputs": [],
   "source": [
    "result = model.transcribe('voice.wav', fp16=False)"
   ]
  },
  {
   "cell_type": "code",
   "execution_count": 4,
   "metadata": {},
   "outputs": [
    {
     "name": "stdout",
     "output_type": "stream",
     "text": [
      " Hey Richard, what's up? I'm free for a health call and I'm done moving out of that. I emailed you back a couple days ago and I was waiting for a response. And did you get new notice on the phone? Let me check again. Oh, also I can't really hear you like well. It's so awful. I'm not going to get a phone call. I'm not going to get a phone call. I'm not going to get a phone call. Okay, is that better? Yeah, much better. All right, crappy Bluetooth. Sorry. I wasn't sure if it was or not. USINGR. Yes. RISH.CHARD at gmail.com. Yeah. You send your dot, Richard at gmail.com. Yeah. What day was it sent? Three days ago on the second. I was just asking if you knew the heating type of the house and if you had any roofing or boiler updates. Right. Huh. I'm not going to put it in my support. I'll put it in my spam phone. Wow. Okay. Move to the inbox. Yeah, we just need to know that information and then we can get that quote over. I was waiting for a while, but yeah. Yeah. We're to put it now. Where's what? Oh, the email. I can give you answers over the phone. I lost the email now. I tried to move it from the spam folder to the inbox and it disappeared. Yeah. All right. So it's not upgrades. Flooring laminated floor paint. The roof was done 2019. Yeah. The roof was done 2019. Yeah. The roof was done 2019. Yeah. Furnace 2022. 2022 is a sexual furnace. Yeah. And the hot water tank was replaced 2023. All right. Thank you so much. That should be enough. All right. I'll. I'm basically just popping in the office dresses, do some paperwork. So I'll get the quote over to you on Monday if I can. Sounds good. All right. Now that I know you actually did email me and it's my fault for not saying that it's a folder. Straight back with the spam. No, first way so. Yeah. Yeah. Yeah. I was the first time I've had that. And now that I checked the spam folder, there's a whole bunch in there that are junk that I just never looked for. Yeah. Strange. Too funny. All right. All right. Awesome. I'll do this for you as soon as I get hand tomorrow. All right. Awesome. Thank you. Bye.\n"
     ]
    }
   ],
   "source": [
    "print(result['text'])"
   ]
  },
  {
   "cell_type": "code",
   "execution_count": null,
   "metadata": {},
   "outputs": [],
   "source": []
  }
 ],
 "metadata": {
  "kernelspec": {
   "display_name": "privateGPTAPI",
   "language": "python",
   "name": "python3"
  },
  "language_info": {
   "codemirror_mode": {
    "name": "ipython",
    "version": 3
   },
   "file_extension": ".py",
   "mimetype": "text/x-python",
   "name": "python",
   "nbconvert_exporter": "python",
   "pygments_lexer": "ipython3",
   "version": "3.12.2"
  }
 },
 "nbformat": 4,
 "nbformat_minor": 2
}
